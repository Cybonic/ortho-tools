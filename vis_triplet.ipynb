{
 "cells": [
  {
   "cell_type": "code",
   "execution_count": 7,
   "metadata": {},
   "outputs": [],
   "source": [
    "import numpy as np\n",
    "import rasterio\n",
    "from rasterio.plot import show\n",
    "import os\n",
    "import matplotlib.pyplot as plt\n",
    "import rioxarray\n",
    "import tifffile\n",
    "from PIL import Image"
   ]
  },
  {
   "cell_type": "code",
   "execution_count": 8,
   "metadata": {},
   "outputs": [],
   "source": [
    "root = '/home/tiago/workspace/valdoeiro/x7_'\n",
    "\n",
    "dsm_dir = os.path.join(root,'pos_dsm')\n",
    "image_dir = os.path.join(root,'pos_images')\n",
    "mask_dir = os.path.join(root,'pos_masks')\n",
    "\n",
    "if not os.path.isfile(dsm_dir) or not os.path.isfile(image_dir) or not os.path.isfile(mask_dir):\n",
    "    NameError"
   ]
  },
  {
   "cell_type": "code",
   "execution_count": 9,
   "metadata": {},
   "outputs": [],
   "source": [
    "from utils import utils\n",
    "\n",
    "image_files = utils.get_files(image_dir)\n",
    "image_files['files'] = sorted(image_files['files'])\n",
    "dsm_files = utils.get_files(dsm_dir)\n",
    "dsm_files['files'] = sorted(dsm_files['files'])\n",
    "mask_files = utils.get_files(mask_dir)\n",
    "mask_files['files'] = sorted(mask_files['files'])"
   ]
  },
  {
   "cell_type": "code",
   "execution_count": 24,
   "metadata": {},
   "outputs": [],
   "source": [
    "import tifffile\n",
    "def show_triplet(img,dsm,mask):\n",
    "    '''\n",
    "    Input PILs \n",
    "    '''\n",
    "    \n",
    "    img = Image.fromarray(img)\n",
    "    dsm = Image.fromarray(dsm)\n",
    "    mask= Image.fromarray(mask)\n",
    "    \n",
    "    dst = Image.new('RGB', (img.width + dsm.width + mask.width, mask.height))\n",
    "    dst.paste(img, (0, 0))\n",
    "    dst.paste(dsm, (img.width, 0))\n",
    "    dst.paste(mask, (img.width + dsm.width, 0))\n",
    "    dst.show()\n",
    "\n",
    "def get_file(files,index):\n",
    "    return(os.path.join(files['root'],files['files'][index] + '.' + files['file_type']))\n",
    "\n",
    "def get_triplet(img,dsm,mask,i):\n",
    "    img_file  =  get_file(img,i)\n",
    "    dsm_file  =  get_file(dsm,i)\n",
    "    mask_file =  get_file(mask,i)\n",
    "    return(img_file,dsm_file,mask_file)\n",
    "\n",
    "def load_file(file):\n",
    "    file_type = file.split('.')[-1]\n",
    "    if file_type == 'npy':\n",
    "        im = np.load(file)\n",
    "    else:\n",
    "        im = tifffile.imread(file)\n",
    "    return(im)\n",
    "\n",
    "def weird_division(n, d):\n",
    "    dnom = d if d else 1\n",
    "    return n/float(dnom)\n",
    "\n",
    "\n",
    "def load_triplet(im_file,dsm_file,mask_file):\n",
    "    \n",
    "    img = load_file(im_file)\n",
    "    dsm = load_file(dsm_file)\n",
    "    mask = load_file(mask_file)\n",
    "\n",
    "    dsm = (dsm-dsm.min())\n",
    "    dsm = weird_division(dsm,dsm.max())*255\n",
    "    \n",
    "    if len(dsm.shape)<3:\n",
    "        dsm = np.expand_dims(dsm,axis=-1)\n",
    "    dsm = np.concatenate((dsm,dsm,dsm),axis=2)\n",
    "    if len(mask.shape)<3:\n",
    "        mask = np.expand_dims(mask,axis=-1)\n",
    "    if mask.shape[-1]<3:\n",
    "        mask = np.concatenate((mask,mask,mask),axis=2)\n",
    "\n",
    "    return(img,dsm,mask)\n",
    "\n"
   ]
  },
  {
   "cell_type": "markdown",
   "metadata": {},
   "source": [
    "DSM Files"
   ]
  },
  {
   "cell_type": "code",
   "execution_count": 11,
   "metadata": {},
   "outputs": [],
   "source": [
    "from utils import utils\n",
    "\n",
    "image_files = utils.get_files(image_dir)\n",
    "image_files['files'] = sorted(image_files['files'])\n",
    "dsm_files = utils.get_files(dsm_dir)\n",
    "dsm_files['files'] = sorted(dsm_files['files'])\n",
    "mask_files = utils.get_files(mask_dir)\n",
    "mask_files['files'] = sorted(mask_files['files'])"
   ]
  },
  {
   "cell_type": "code",
   "execution_count": 26,
   "metadata": {},
   "outputs": [
    {
     "ename": "FileNotFoundError",
     "evalue": "[Errno 2] No such file or directory: '/home/tiago/workspace/valdoeiro/x7_/pos_images/00720_06000.tif'",
     "output_type": "error",
     "traceback": [
      "\u001b[0;31m---------------------------------------------------------------------------\u001b[0m",
      "\u001b[0;31mFileNotFoundError\u001b[0m                         Traceback (most recent call last)",
      "\u001b[1;32m/home/tiago/research/orthomosaic_tools/vis_triplet.ipynb Cell 7'\u001b[0m in \u001b[0;36m<module>\u001b[0;34m\u001b[0m\n\u001b[1;32m      <a href='vscode-notebook-cell:/home/tiago/research/orthomosaic_tools/vis_triplet.ipynb#ch0000006?line=4'>5</a>\u001b[0m \u001b[39mfor\u001b[39;00m i \u001b[39min\u001b[39;00m \u001b[39mrange\u001b[39m(\u001b[39m20\u001b[39m):\n\u001b[1;32m      <a href='vscode-notebook-cell:/home/tiago/research/orthomosaic_tools/vis_triplet.ipynb#ch0000006?line=5'>6</a>\u001b[0m     img_file, dsm_file, mask_file \u001b[39m=\u001b[39m get_triplet(image_files,dsm_files,mask_files,i)\n\u001b[0;32m----> <a href='vscode-notebook-cell:/home/tiago/research/orthomosaic_tools/vis_triplet.ipynb#ch0000006?line=6'>7</a>\u001b[0m     img,dsm,mask \u001b[39m=\u001b[39m load_triplet(img_file,dsm_file,mask_file)\n\u001b[1;32m      <a href='vscode-notebook-cell:/home/tiago/research/orthomosaic_tools/vis_triplet.ipynb#ch0000006?line=7'>8</a>\u001b[0m     iamge_row \u001b[39m=\u001b[39m np\u001b[39m.\u001b[39mhstack((img,dsm,mask))\n\u001b[1;32m      <a href='vscode-notebook-cell:/home/tiago/research/orthomosaic_tools/vis_triplet.ipynb#ch0000006?line=8'>9</a>\u001b[0m     frame\u001b[39m.\u001b[39mappend(iamge_row)\n",
      "\u001b[1;32m/home/tiago/research/orthomosaic_tools/vis_triplet.ipynb Cell 4'\u001b[0m in \u001b[0;36mload_triplet\u001b[0;34m(im_file, dsm_file, mask_file)\u001b[0m\n\u001b[1;32m     <a href='vscode-notebook-cell:/home/tiago/research/orthomosaic_tools/vis_triplet.ipynb#ch0000003?line=38'>39</a>\u001b[0m \u001b[39mdef\u001b[39;00m \u001b[39mload_triplet\u001b[39m(im_file,dsm_file,mask_file):\n\u001b[0;32m---> <a href='vscode-notebook-cell:/home/tiago/research/orthomosaic_tools/vis_triplet.ipynb#ch0000003?line=40'>41</a>\u001b[0m     img \u001b[39m=\u001b[39m load_file(im_file)\n\u001b[1;32m     <a href='vscode-notebook-cell:/home/tiago/research/orthomosaic_tools/vis_triplet.ipynb#ch0000003?line=42'>43</a>\u001b[0m     dsm \u001b[39m=\u001b[39m load_file(dsm_file)\n\u001b[1;32m     <a href='vscode-notebook-cell:/home/tiago/research/orthomosaic_tools/vis_triplet.ipynb#ch0000003?line=44'>45</a>\u001b[0m     mask \u001b[39m=\u001b[39m load_file(mask_file)\n",
      "\u001b[1;32m/home/tiago/research/orthomosaic_tools/vis_triplet.ipynb Cell 4'\u001b[0m in \u001b[0;36mload_file\u001b[0;34m(file)\u001b[0m\n\u001b[1;32m     <a href='vscode-notebook-cell:/home/tiago/research/orthomosaic_tools/vis_triplet.ipynb#ch0000003?line=28'>29</a>\u001b[0m     im \u001b[39m=\u001b[39m np\u001b[39m.\u001b[39mload(file)\n\u001b[1;32m     <a href='vscode-notebook-cell:/home/tiago/research/orthomosaic_tools/vis_triplet.ipynb#ch0000003?line=29'>30</a>\u001b[0m \u001b[39melse\u001b[39;00m:\n\u001b[0;32m---> <a href='vscode-notebook-cell:/home/tiago/research/orthomosaic_tools/vis_triplet.ipynb#ch0000003?line=30'>31</a>\u001b[0m     im \u001b[39m=\u001b[39m tifffile\u001b[39m.\u001b[39;49mimread(file)\n\u001b[1;32m     <a href='vscode-notebook-cell:/home/tiago/research/orthomosaic_tools/vis_triplet.ipynb#ch0000003?line=31'>32</a>\u001b[0m \u001b[39mreturn\u001b[39;00m(im)\n",
      "File \u001b[0;32m~/.local/lib/python3.8/site-packages/tifffile/tifffile.py:891\u001b[0m, in \u001b[0;36mimread\u001b[0;34m(files, aszarr, **kwargs)\u001b[0m\n\u001b[1;32m    <a href='file:///~/.local/lib/python3.8/site-packages/tifffile/tifffile.py?line=887'>888</a>\u001b[0m     files \u001b[39m=\u001b[39m files[\u001b[39m0\u001b[39m]\n\u001b[1;32m    <a href='file:///~/.local/lib/python3.8/site-packages/tifffile/tifffile.py?line=889'>890</a>\u001b[0m \u001b[39mif\u001b[39;00m \u001b[39misinstance\u001b[39m(files, (\u001b[39mstr\u001b[39m, os\u001b[39m.\u001b[39mPathLike)) \u001b[39mor\u001b[39;00m \u001b[39mhasattr\u001b[39m(files, \u001b[39m'\u001b[39m\u001b[39mseek\u001b[39m\u001b[39m'\u001b[39m):\n\u001b[0;32m--> <a href='file:///~/.local/lib/python3.8/site-packages/tifffile/tifffile.py?line=890'>891</a>\u001b[0m     \u001b[39mwith\u001b[39;00m TiffFile(files, \u001b[39m*\u001b[39;49m\u001b[39m*\u001b[39;49mkwargs_file) \u001b[39mas\u001b[39;00m tif:\n\u001b[1;32m    <a href='file:///~/.local/lib/python3.8/site-packages/tifffile/tifffile.py?line=891'>892</a>\u001b[0m         \u001b[39mif\u001b[39;00m aszarr:\n\u001b[1;32m    <a href='file:///~/.local/lib/python3.8/site-packages/tifffile/tifffile.py?line=892'>893</a>\u001b[0m             \u001b[39mreturn\u001b[39;00m tif\u001b[39m.\u001b[39maszarr(\u001b[39m*\u001b[39m\u001b[39m*\u001b[39mkwargs)\n",
      "File \u001b[0;32m~/.local/lib/python3.8/site-packages/tifffile/tifffile.py:3131\u001b[0m, in \u001b[0;36mTiffFile.__init__\u001b[0;34m(self, arg, mode, name, offset, size, _multifile, _useframes, _parent, **kwargs)\u001b[0m\n\u001b[1;32m   <a href='file:///~/.local/lib/python3.8/site-packages/tifffile/tifffile.py?line=3127'>3128</a>\u001b[0m \u001b[39mif\u001b[39;00m mode \u001b[39mnot\u001b[39;00m \u001b[39min\u001b[39;00m (\u001b[39mNone\u001b[39;00m, \u001b[39m'\u001b[39m\u001b[39mrb\u001b[39m\u001b[39m'\u001b[39m, \u001b[39m'\u001b[39m\u001b[39mr+b\u001b[39m\u001b[39m'\u001b[39m):\n\u001b[1;32m   <a href='file:///~/.local/lib/python3.8/site-packages/tifffile/tifffile.py?line=3128'>3129</a>\u001b[0m     \u001b[39mraise\u001b[39;00m \u001b[39mValueError\u001b[39;00m(\u001b[39mf\u001b[39m\u001b[39m'\u001b[39m\u001b[39minvalid mode \u001b[39m\u001b[39m{\u001b[39;00mmode\u001b[39m!r}\u001b[39;00m\u001b[39m'\u001b[39m)\n\u001b[0;32m-> <a href='file:///~/.local/lib/python3.8/site-packages/tifffile/tifffile.py?line=3130'>3131</a>\u001b[0m fh \u001b[39m=\u001b[39m FileHandle(arg, mode\u001b[39m=\u001b[39;49mmode, name\u001b[39m=\u001b[39;49mname, offset\u001b[39m=\u001b[39;49moffset, size\u001b[39m=\u001b[39;49msize)\n\u001b[1;32m   <a href='file:///~/.local/lib/python3.8/site-packages/tifffile/tifffile.py?line=3131'>3132</a>\u001b[0m \u001b[39mself\u001b[39m\u001b[39m.\u001b[39m_fh \u001b[39m=\u001b[39m fh\n\u001b[1;32m   <a href='file:///~/.local/lib/python3.8/site-packages/tifffile/tifffile.py?line=3132'>3133</a>\u001b[0m \u001b[39mself\u001b[39m\u001b[39m.\u001b[39m_multifile \u001b[39m=\u001b[39m \u001b[39mbool\u001b[39m(_multifile)\n",
      "File \u001b[0;32m~/.local/lib/python3.8/site-packages/tifffile/tifffile.py:10447\u001b[0m, in \u001b[0;36mFileHandle.__init__\u001b[0;34m(self, file, mode, name, offset, size)\u001b[0m\n\u001b[1;32m  <a href='file:///~/.local/lib/python3.8/site-packages/tifffile/tifffile.py?line=10444'>10445</a>\u001b[0m \u001b[39mself\u001b[39m\u001b[39m.\u001b[39mis_file \u001b[39m=\u001b[39m \u001b[39mNone\u001b[39;00m\n\u001b[1;32m  <a href='file:///~/.local/lib/python3.8/site-packages/tifffile/tifffile.py?line=10445'>10446</a>\u001b[0m \u001b[39mself\u001b[39m\u001b[39m.\u001b[39m_lock \u001b[39m=\u001b[39m NullContext()\n\u001b[0;32m> <a href='file:///~/.local/lib/python3.8/site-packages/tifffile/tifffile.py?line=10446'>10447</a>\u001b[0m \u001b[39mself\u001b[39;49m\u001b[39m.\u001b[39;49mopen()\n",
      "File \u001b[0;32m~/.local/lib/python3.8/site-packages/tifffile/tifffile.py:10460\u001b[0m, in \u001b[0;36mFileHandle.open\u001b[0;34m(self)\u001b[0m\n\u001b[1;32m  <a href='file:///~/.local/lib/python3.8/site-packages/tifffile/tifffile.py?line=10457'>10458</a>\u001b[0m \u001b[39mself\u001b[39m\u001b[39m.\u001b[39m_file \u001b[39m=\u001b[39m os\u001b[39m.\u001b[39mpath\u001b[39m.\u001b[39mrealpath(\u001b[39mself\u001b[39m\u001b[39m.\u001b[39m_file)\n\u001b[1;32m  <a href='file:///~/.local/lib/python3.8/site-packages/tifffile/tifffile.py?line=10458'>10459</a>\u001b[0m \u001b[39mself\u001b[39m\u001b[39m.\u001b[39m_dir, \u001b[39mself\u001b[39m\u001b[39m.\u001b[39m_name \u001b[39m=\u001b[39m os\u001b[39m.\u001b[39mpath\u001b[39m.\u001b[39msplit(\u001b[39mself\u001b[39m\u001b[39m.\u001b[39m_file)\n\u001b[0;32m> <a href='file:///~/.local/lib/python3.8/site-packages/tifffile/tifffile.py?line=10459'>10460</a>\u001b[0m \u001b[39mself\u001b[39m\u001b[39m.\u001b[39m_fh \u001b[39m=\u001b[39m \u001b[39mopen\u001b[39;49m(\u001b[39mself\u001b[39;49m\u001b[39m.\u001b[39;49m_file, \u001b[39mself\u001b[39;49m\u001b[39m.\u001b[39;49m_mode)\n\u001b[1;32m  <a href='file:///~/.local/lib/python3.8/site-packages/tifffile/tifffile.py?line=10460'>10461</a>\u001b[0m \u001b[39mself\u001b[39m\u001b[39m.\u001b[39m_close \u001b[39m=\u001b[39m \u001b[39mTrue\u001b[39;00m\n\u001b[1;32m  <a href='file:///~/.local/lib/python3.8/site-packages/tifffile/tifffile.py?line=10461'>10462</a>\u001b[0m \u001b[39mif\u001b[39;00m \u001b[39mself\u001b[39m\u001b[39m.\u001b[39m_offset \u001b[39mis\u001b[39;00m \u001b[39mNone\u001b[39;00m:\n",
      "\u001b[0;31mFileNotFoundError\u001b[0m: [Errno 2] No such file or directory: '/home/tiago/workspace/valdoeiro/x7_/pos_images/00720_06000.tif'"
     ]
    }
   ],
   "source": [
    "from PIL import Image\n",
    "import numpy as np\n",
    "frame = []\n",
    "n_files = len(image_files['files'])\n",
    "for i in range(20):\n",
    "    img_file, dsm_file, mask_file = get_triplet(image_files,dsm_files,mask_files,i)\n",
    "    img,dsm,mask = load_triplet(img_file,dsm_file,mask_file)\n",
    "    iamge_row = np.hstack((img,dsm,mask))\n",
    "    frame.append(iamge_row)\n",
    "\n",
    "frame = np.vstack(frame).astype(np.uint8)\n",
    "frame_pil = Image.fromarray(frame)\n",
    "frame_pil.show()"
   ]
  }
 ],
 "metadata": {
  "interpreter": {
   "hash": "4177ce323139ec40cdb85a8dee0494ec1db0340a3a8f9cdf5d7f383fa1eed323"
  },
  "kernelspec": {
   "display_name": "Python 3.8.10 64-bit ('venv': venv)",
   "language": "python",
   "name": "python3"
  },
  "language_info": {
   "codemirror_mode": {
    "name": "ipython",
    "version": 3
   },
   "file_extension": ".py",
   "mimetype": "text/x-python",
   "name": "python",
   "nbconvert_exporter": "python",
   "pygments_lexer": "ipython3",
   "version": "3.8.10"
  },
  "orig_nbformat": 4
 },
 "nbformat": 4,
 "nbformat_minor": 2
}
