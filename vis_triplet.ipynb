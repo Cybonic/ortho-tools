{
 "cells": [
  {
   "cell_type": "code",
   "execution_count": 108,
   "metadata": {},
   "outputs": [],
   "source": [
    "import numpy as np\n",
    "import rasterio\n",
    "from rasterio.plot import show\n",
    "import os\n",
    "import matplotlib.pyplot as plt\n",
    "import rioxarray\n",
    "import tifffile\n",
    "from PIL import Image"
   ]
  },
  {
   "cell_type": "code",
   "execution_count": 109,
   "metadata": {},
   "outputs": [],
   "source": [
    "root = '/home/tiago/research/greenai/split_dataset/valdoeiro/x7'\n",
    "\n",
    "dsm_dir = os.path.join(root,'dsm')\n",
    "image_dir = os.path.join(root,'images')\n",
    "mask_dir = os.path.join(root,'masks')\n",
    "\n",
    "if not os.path.isfile(dsm_dir) or not os.path.isfile(image_dir) or not os.path.isfile(mask_dir):\n",
    "    NameError"
   ]
  },
  {
   "cell_type": "code",
   "execution_count": null,
   "metadata": {},
   "outputs": [],
   "source": [
    "from utils import utils\n",
    "\n",
    "image_files = utils.get_files(image_dir)\n",
    "image_files['files'] = sorted(image_files['files'])\n",
    "dsm_files = utils.get_files(dsm_dir)\n",
    "dsm_files['files'] = sorted(dsm_files['files'])\n",
    "mask_files = utils.get_files(mask_dir)\n",
    "mask_files['files'] = sorted(mask_files['files'])"
   ]
  },
  {
   "cell_type": "code",
   "execution_count": 114,
   "metadata": {},
   "outputs": [],
   "source": [
    "import tifffile\n",
    "def show_triplet(img,dsm,mask):\n",
    "    '''\n",
    "    Input PILs \n",
    "    '''\n",
    "    \n",
    "    img = Image.fromarray(img)\n",
    "    dsm = Image.fromarray(dsm)\n",
    "    mask= Image.fromarray(mask)\n",
    "    \n",
    "    dst = Image.new('RGB', (img.width + dsm.width + mask.width, mask.height))\n",
    "    dst.paste(img, (0, 0))\n",
    "    dst.paste(dsm, (img.width, 0))\n",
    "    dst.paste(mask, (img.width + dsm.width, 0))\n",
    "    dst.show()\n",
    "\n",
    "def get_file(files,index):\n",
    "    return(os.path.join(files['root'],files['files'][index] + '.' + files['file_type']))\n",
    "\n",
    "def get_triplet(img,dsm,mask,i):\n",
    "    img_file  =  get_file(img,i)\n",
    "    dsm_file  =  get_file(dsm,i)\n",
    "    mask_file =  get_file(mask,i)\n",
    "    return(img_file,dsm_file,mask_file)\n",
    "\n",
    "def load_file(file):\n",
    "    file_type = file.split('.')[-1]\n",
    "    if file_type == 'npy':\n",
    "        im = np.load(file)\n",
    "    else:\n",
    "        im = tifffile.imread(file)\n",
    "    return(im)\n",
    "\n",
    "def load_triplet(im_file,dsm_file,mask_file):\n",
    "    \n",
    "    img = load_file(im_file)\n",
    "\n",
    "    dsm = load_file(dsm_file)\n",
    "\n",
    "    mask = load_file(mask_file)\n",
    "\n",
    "\n",
    "    dsm = (dsm-dsm.min())\n",
    "    dsm = dsm/dsm.max()*255\n",
    "    \n",
    "    if len(dsm.shape)<3:\n",
    "        dsm = np.expand_dims(dsm,axis=-1)\n",
    "    \n",
    "    dsm = np.concatenate((dsm,dsm,dsm),axis=2)\n",
    "\n",
    "    if len(mask.shape)<3:\n",
    "        mask = np.expand_dims(mask,axis=-1)\n",
    "\n",
    "    if mask.shape[-1]<3:\n",
    "        mask = np.concatenate((mask,mask,mask),axis=2)\n",
    "\n",
    "    return(img,dsm,mask)\n",
    "\n"
   ]
  },
  {
   "cell_type": "markdown",
   "metadata": {},
   "source": [
    "DSM Files"
   ]
  },
  {
   "cell_type": "code",
   "execution_count": 111,
   "metadata": {},
   "outputs": [],
   "source": [
    "from utils import utils\n",
    "\n",
    "image_files = utils.get_files(image_dir)\n",
    "image_files['files'] = sorted(image_files['files'])\n",
    "dsm_files = utils.get_files(dsm_dir)\n",
    "dsm_files['files'] = sorted(dsm_files['files'])\n",
    "mask_files = utils.get_files(mask_dir)\n",
    "mask_files['files'] = sorted(mask_files['files'])"
   ]
  },
  {
   "cell_type": "code",
   "execution_count": 115,
   "metadata": {},
   "outputs": [],
   "source": [
    "from PIL import Image\n",
    "import numpy as np\n",
    "frame = []\n",
    "n_files = len(image_files['files'])\n",
    "for i in range(20):\n",
    "    img_file, dsm_file, mask_file = get_triplet(image_files,dsm_files,mask_files,i)\n",
    "    img,dsm,mask = load_triplet(img_file,dsm_file,mask_file)\n",
    "    iamge_row = np.hstack((img,dsm,mask))\n",
    "    frame.append(iamge_row)\n",
    "\n",
    "frame = np.vstack(frame).astype(np.uint8)\n",
    "frame_pil = Image.fromarray(frame)\n",
    "frame_pil.show()"
   ]
  }
 ],
 "metadata": {
  "interpreter": {
   "hash": "4177ce323139ec40cdb85a8dee0494ec1db0340a3a8f9cdf5d7f383fa1eed323"
  },
  "kernelspec": {
   "display_name": "Python 3.8.10 64-bit ('venv': venv)",
   "language": "python",
   "name": "python3"
  },
  "language_info": {
   "codemirror_mode": {
    "name": "ipython",
    "version": 3
   },
   "file_extension": ".py",
   "mimetype": "text/x-python",
   "name": "python",
   "nbconvert_exporter": "python",
   "pygments_lexer": "ipython3",
   "version": "3.8.10"
  },
  "orig_nbformat": 4
 },
 "nbformat": 4,
 "nbformat_minor": 2
}
