{
 "cells": [
  {
   "cell_type": "code",
   "execution_count": 32,
   "metadata": {},
   "outputs": [],
   "source": [
    "import os\n",
    "import utils\n",
    "import numpy as np\n",
    "import rasterio"
   ]
  },
  {
   "cell_type": "code",
   "execution_count": 33,
   "metadata": {},
   "outputs": [],
   "source": [
    "root = '/home/tiago/workspace/valdoeiro/x7_'\n",
    "ref_file = 'dsm_prj.tif'\n",
    "src_file = 'mask.tif'\n",
    "dsm_file = os.path.join(root,ref_file)\n",
    "ortho_file = os.path.join(root,src_file)\n",
    "image_file = 'mask.png'\n",
    "\n",
    "if not os.path.isfile(dsm_file) or not os.path.isfile(ortho_file):\n",
    "    NameError(\"Path Does not exist!\")"
   ]
  },
  {
   "cell_type": "code",
   "execution_count": 34,
   "metadata": {},
   "outputs": [
    {
     "name": "stdout",
     "output_type": "stream",
     "text": [
      "target raster shape (35283, 23419)\n",
      "src raster shape (8820, 15613)\n",
      "diff shape [26463  7806]\n",
      "New raster shape (8820, 23419, 3)\n"
     ]
    }
   ],
   "source": [
    "\n",
    "dsm_rasterio = rasterio.open(dsm_file)\n",
    "target_shape = np.array(dsm_rasterio.shape)\n",
    "print(f'target raster shape {dsm_rasterio.shape}')\n",
    "\n",
    "ortho_rasterio = rasterio.open(ortho_file)\n",
    "src_shape = np.array(ortho_rasterio.shape)\n",
    "print(f'src raster shape {ortho_rasterio.shape}')\n",
    "\n",
    "dif_shape = target_shape-src_shape\n",
    "print(f'diff shape {dif_shape}')\n",
    "start_column = dif_shape[1]\n",
    "ortho_numpy = np.array(ortho_rasterio.read())\n",
    "ortho_numpy = np.transpose(ortho_numpy,(1,2,0))\n",
    "\n",
    "th = src_shape[0]\n",
    "tw = target_shape[1]\n",
    "\n",
    "new_raster = np.zeros((th,tw,3))\n",
    "print(f'New raster shape {new_raster.shape}')\n",
    "\n",
    "new_raster[:,start_column:,:] = ortho_numpy\n",
    "new_raster =new_raster.astype(np.uint8)"
   ]
  },
  {
   "cell_type": "code",
   "execution_count": 35,
   "metadata": {},
   "outputs": [],
   "source": [
    "# %%script echo skipping\n",
    "import tifffile\n",
    "#import xarray as xa\n",
    "#import rioxarray\n",
    "\n",
    "\n",
    "name_split = ortho_file.split('.')\n",
    "dest_path = os.path.join(root,'resize_' + src_file)\n",
    "tifffile.imsave(dest_path, new_raster)\n",
    "#im_save = xa.DataArray(new_raster,dims=('bands','y', 'x'))\n",
    "#im_save.rio.to_raster(dest_path)"
   ]
  },
  {
   "cell_type": "code",
   "execution_count": 36,
   "metadata": {},
   "outputs": [],
   "source": [
    "#%%script echo skipping\n",
    "\n",
    "from PIL import Image\n",
    "new_raster_pil = Image.fromarray(new_raster)\n",
    "new_raster_pil.convert('RGB')\n",
    "dest_path = os.path.join(root,'resize_' + image_file)\n",
    "new_raster_pil.save(dest_path)\n"
   ]
  }
 ],
 "metadata": {
  "interpreter": {
   "hash": "c2f0fcb306d01174dba19f06708c516169697d140a1855fd09cdd1d6b404806f"
  },
  "kernelspec": {
   "display_name": "Python 3.8.10 ('venv': venv)",
   "language": "python",
   "name": "python3"
  },
  "language_info": {
   "codemirror_mode": {
    "name": "ipython",
    "version": 3
   },
   "file_extension": ".py",
   "mimetype": "text/x-python",
   "name": "python",
   "nbconvert_exporter": "python",
   "pygments_lexer": "ipython3",
   "version": "3.8.10"
  },
  "orig_nbformat": 4
 },
 "nbformat": 4,
 "nbformat_minor": 2
}
