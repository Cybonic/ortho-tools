{
 "cells": [
  {
   "cell_type": "code",
   "execution_count": 21,
   "metadata": {},
   "outputs": [],
   "source": [
    "import os\n",
    "import utils\n",
    "import numpy as np\n",
    "import rasterio"
   ]
  },
  {
   "cell_type": "code",
   "execution_count": 22,
   "metadata": {},
   "outputs": [],
   "source": [
    "root = '/home/tiago/workspace/valdoeiro/x7_'\n",
    "dsm_file = os.path.join(root,'dsm_prj.tif')\n",
    "ortho_file = os.path.join(root,'ortho.tif')\n",
    "image_file = 'image.png'\n",
    "\n",
    "if not os.path.isfile(dsm_file) or not os.path.isfile(ortho_file):\n",
    "    NameError(\"Path Does not exist!\")"
   ]
  },
  {
   "cell_type": "code",
   "execution_count": 23,
   "metadata": {},
   "outputs": [
    {
     "name": "stdout",
     "output_type": "stream",
     "text": [
      "target raster shape (35283, 23419)\n",
      "src raster shape (8820, 15613)\n",
      "diff shape [26463  7806]\n",
      "New raster shape (8820, 23419, 3)\n"
     ]
    }
   ],
   "source": [
    "\n",
    "dsm_rasterio = rasterio.open(dsm_file)\n",
    "target_shape = np.array(dsm_rasterio.shape)\n",
    "print(f'target raster shape {dsm_rasterio.shape}')\n",
    "\n",
    "ortho_rasterio = rasterio.open(ortho_file)\n",
    "src_shape = np.array(ortho_rasterio.shape)\n",
    "print(f'src raster shape {ortho_rasterio.shape}')\n",
    "\n",
    "dif_shape = target_shape-src_shape\n",
    "print(f'diff shape {dif_shape}')\n",
    "start_column = dif_shape[1]\n",
    "ortho_numpy = np.array(ortho_rasterio.read())\n",
    "ortho_numpy = np.transpose(ortho_numpy,(1,2,0))\n",
    "\n",
    "th = src_shape[0]\n",
    "tw = target_shape[1]\n",
    "\n",
    "new_raster = np.zeros((th,tw,3))\n",
    "print(f'New raster shape {new_raster.shape}')\n",
    "\n",
    "new_raster[:,start_column:,:] = ortho_numpy"
   ]
  },
  {
   "cell_type": "code",
   "execution_count": 24,
   "metadata": {},
   "outputs": [],
   "source": [
    "\n",
    "from PIL import Image\n",
    "new_raster =new_raster.astype(np.uint8)\n",
    "new_raster_pil = Image.fromarray(new_raster)\n",
    "new_raster_pil.convert('RGB')\n",
    "new_raster_pil.save(image_file)"
   ]
  }
 ],
 "metadata": {
  "interpreter": {
   "hash": "c2f0fcb306d01174dba19f06708c516169697d140a1855fd09cdd1d6b404806f"
  },
  "kernelspec": {
   "display_name": "Python 3.8.10 ('venv': venv)",
   "language": "python",
   "name": "python3"
  },
  "language_info": {
   "codemirror_mode": {
    "name": "ipython",
    "version": 3
   },
   "file_extension": ".py",
   "mimetype": "text/x-python",
   "name": "python",
   "nbconvert_exporter": "python",
   "pygments_lexer": "ipython3",
   "version": "3.8.10"
  },
  "orig_nbformat": 4
 },
 "nbformat": 4,
 "nbformat_minor": 2
}
