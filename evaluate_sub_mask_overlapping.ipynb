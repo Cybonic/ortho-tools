{
 "cells": [
  {
   "cell_type": "markdown",
   "source": [
    "\r\n",
    "Author: Tiago Barros \\\r\n",
    "Date: 14/09/2021 \\\r\n",
    "Description: \r\n",
    " "
   ],
   "metadata": {}
  },
  {
   "cell_type": "code",
   "execution_count": null,
   "source": [
    "from os import listdir\r\n",
    "from os.path import isfile, join"
   ],
   "outputs": [],
   "metadata": {}
  },
  {
   "cell_type": "code",
   "execution_count": null,
   "source": [
    "# Path to sub-image directory\r\n",
    "sub_img_dir = \"E:\\\\dataset\\\\greenAI\\\\drone\\\\quintabaixo\\\\04_05_2021\\\\60m\\\\x7\\\\sub_img\"\r\n",
    "#Load sub-image files\r\n",
    "sub_img_files = [f for f in listdir(sub_img_dir) if isfile(join(sub_img_dir, f))]\r\n",
    "print(\"[INF] Loaded %d files\"%(len(sub_img_files)))"
   ],
   "outputs": [],
   "metadata": {}
  },
  {
   "cell_type": "code",
   "execution_count": null,
   "source": [
    "# Path to sub-masks directory\r\n",
    "sub_mask_dir = \"E:\\\\dataset\\\\greenAI\\\\drone\\\\quintabaixo\\\\04_05_2021\\\\60m\\\\x7\\\\sub_mask\"\r\n",
    "# Load sub-mask files\r\n",
    "sub_mask_files = [f for f in listdir(sub_mask_dir) if isfile(join(sub_mask_dir, f))]\r\n",
    "print(\"[INF] Loaded %d files\"%(len(sub_mask_files)))"
   ],
   "outputs": [],
   "metadata": {}
  },
  {
   "cell_type": "code",
   "execution_count": null,
   "source": [
    "# Find files with the same name in both sets\r\n",
    "matching_files = []\r\n",
    "for sub_mask in sub_mask_files:\r\n",
    "    if sub_mask in sub_img_files:\r\n",
    "        matching_files.append(sub_mask)\r\n",
    "\r\n",
    "print(matching_files)\r\n"
   ],
   "outputs": [],
   "metadata": {}
  },
  {
   "cell_type": "code",
   "execution_count": null,
   "source": [
    "# Overlap masks with corresponding images\r\n",
    "from PIL import Image\r\n",
    "from matplotlib.pyplot import imshow\r\n",
    "import numpy as np\r\n",
    "\r\n",
    "import os\r\n",
    "for match in matching_files:\r\n",
    "    # Load Image\r\n",
    "    img_file = os.path.join(sub_img_dir,match)\r\n",
    "    img = Image.open(img_file).convert(\"RGB\")\r\n",
    "    array_img = np.array(img)\r\n",
    "    print(\"Img dim: {}\".format(array_img.shape))\r\n",
    "    # Load Mask\r\n",
    "    mask_file = os.path.join(sub_mask_dir,match)\r\n",
    "    mask = Image.open(mask_file)\r\n",
    "    array_mask = np.array(np.array(mask)/255,dtype=np.int8) # Convert mask to binary array\r\n",
    "    print(\"Mask dim: {}\".format(array_mask.shape))\r\n",
    "    unique_elm = np.unique(array_mask) # get unique elements \r\n",
    "    print(unique_elm)\r\n",
    "\r\n",
    "    # overlap image with the mask\r\n",
    "    # maskout pixels that do not belong to the positive class (i.e., vine rows)\r\n",
    "    array_img[array_mask==0] = 0\r\n",
    "    # Convert back to image (PIL)\r\n",
    "    masked_img = Image.fromarray(array_img)\r\n",
    "\r\n",
    "    \r\n",
    "    display(masked_img)\r\n"
   ],
   "outputs": [],
   "metadata": {}
  }
 ],
 "metadata": {
  "orig_nbformat": 4,
  "language_info": {
   "name": "python",
   "version": "3.7.9",
   "mimetype": "text/x-python",
   "codemirror_mode": {
    "name": "ipython",
    "version": 3
   },
   "pygments_lexer": "ipython3",
   "nbconvert_exporter": "python",
   "file_extension": ".py"
  },
  "kernelspec": {
   "name": "python3",
   "display_name": "Python 3.7.9 64-bit"
  },
  "interpreter": {
   "hash": "8f3892cd3b243b7e041acdffb5268580a721f1d74624b434002c6552138d55d3"
  }
 },
 "nbformat": 4,
 "nbformat_minor": 2
}